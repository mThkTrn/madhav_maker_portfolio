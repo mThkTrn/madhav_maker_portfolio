{
    "cells": [
        {
            "cell_type": "markdown",
            "metadata": {},
            "source": [
                "Note: needs the questions.json file in the same directory as this file.\n",
                "It should contain all of the questions in the database dumped from mongodb."
            ]
        },
        {
            "cell_type": "code",
            "execution_count": 1,
            "metadata": {},
            "outputs": [],
            "source": [
                "from collections import Counter\n",
                "import json\n",
                "from math import log\n",
                "import numpy as np\n",
                "from nltk.stem import PorterStemmer\n",
                "from tqdm import tqdm\n",
                "\n",
                "np.random.seed(0)"
            ]
        },
        {
            "cell_type": "code",
            "execution_count": 2,
            "metadata": {},
            "outputs": [],
            "source": [
                "def bag_of_words(text, dictionary):\n",
                "    bag = [0] * len(dictionary)\n",
                "    for word in text:\n",
                "        if word in dictionary:\n",
                "            bag[dictionary[word]] += 1\n",
                "\n",
                "    return bag\n",
                "\n",
                "def generate_dictionary(subcategory_questions):\n",
                "    \"\"\"\n",
                "    Generate dictionary for bag of words\n",
                "    \"\"\"\n",
                "\n",
                "    dictionary = set()\n",
                "    for subcat in subcategory_questions:\n",
                "        for question in subcategory_questions[subcat]:\n",
                "            dictionary.update(question)\n",
                "\n",
                "    dictionary = list(dictionary)\n",
                "    dictionary = {dictionary[i]: i for i in range(len(dictionary))}\n",
                "    return dictionary\n",
                "\n",
                "def naive_bayes(tokens, naive_bayes_data, class_priors):\n",
                "    counts = Counter(tokens)\n",
                "\n",
                "    # class priors\n",
                "    sums = {\n",
                "        subcat: log(class_priors[subcat])\n",
                "        for subcat in class_priors\n",
                "    }\n",
                "\n",
                "    # likelihoods\n",
                "    for subcat in class_priors:\n",
                "        sums[subcat] += sum([\n",
                "            # use laplace smoothing\n",
                "            counts[token] * log(((naive_bayes_data[token][subcat] if token in naive_bayes_data else 0) + 1) / (class_priors[subcat] + 1))\n",
                "            for token in counts\n",
                "        ])\n",
                "\n",
                "    return max(sums, key=sums.get)\n",
                "\n",
                "def sparse_bag_of_words(text, dictionary):\n",
                "    \"\"\"\n",
                "    Generate a sparse bag of words.\n",
                "    Has the same effect as calling `sparsify(bag_of_words(text, dictionary))`, but is much more memory and time efficient.\n",
                "    \"\"\"\n",
                "\n",
                "    bag = {dictionary[word]: 0 for word in text if word in dictionary}\n",
                "    for word in text:\n",
                "        if word in dictionary:\n",
                "            bag[dictionary[word]] += 1\n",
                "\n",
                "    return bag\n",
                "\n",
                "def sparsify(vector):\n",
                "    return {index: count for index, count in enumerate(vector) if not count == 0}\n",
                "\n",
                "def removePunctuation(s, punctuation='''.,!-;:'\"\\/?@#$%^&*_~()[]{}“”‘’'''):\n",
                "    return ''.join(ch for ch in s if ch not in punctuation)"
            ]
        },
        {
            "cell_type": "code",
            "execution_count": 3,
            "metadata": {},
            "outputs": [
                {
                    "name": "stdout",
                    "output_type": "stream",
                    "text": [
                        "Number of questions: 237637\n"
                    ]
                }
            ],
            "source": [
                "ps = PorterStemmer()\n",
                "\n",
                "with open('stop-words.txt') as f:\n",
                "    stop_words = set(f.readlines())\n",
                "    stop_words = set([word.strip() for word in stop_words])\n",
                "\n",
                "with open('subcategories.txt') as f:\n",
                "    SUBCATEGORIES = [line.strip() for line in f.readlines()]\n",
                "\n",
                "questions = open('tossups.json').readlines() + open('bonuses.json').readlines()\n",
                "np.random.shuffle(questions)\n",
                "print('Number of questions:', len(questions))"
            ]
        },
        {
            "attachments": {},
            "cell_type": "markdown",
            "metadata": {},
            "source": [
                "`naive_bayes_data` has the form\n",
                "\n",
                "```python\n",
                "{\n",
                "    \"word\": {\n",
                "        \"subcategory\": count,\n",
                "        ...\n",
                "    },\n",
                "    ...\n",
                "}\n",
                "```\n",
                "\n",
                "where `subcategory` is a string, `word` is a string, and `count` is an integer."
            ]
        },
        {
            "cell_type": "code",
            "execution_count": 5,
            "metadata": {},
            "outputs": [
                {
                    "name": "stderr",
                    "output_type": "stream",
                    "text": [
                        "100%|██████████| 190110/190110 [04:28<00:00, 707.87it/s]\n"
                    ]
                }
            ],
            "source": [
                "subcategory_questions = {subcat: [] for subcat in SUBCATEGORIES}\n",
                "naive_bayes_data = {}\n",
                "class_priors = {subcat: 0 for subcat in SUBCATEGORIES}\n",
                "\n",
                "for line in tqdm(questions[int(0.2*len(questions)):]):\n",
                "    data = json.loads(line)\n",
                "\n",
                "    if 'subcategory' not in data: continue\n",
                "    subcategory = data['subcategory']\n",
                "    if subcategory not in SUBCATEGORIES: continue\n",
                "\n",
                "    if data['type'] == 'tossup' and 'question' in data and 'answer' in data:\n",
                "        tokens = removePunctuation(data['question'] + ' ' + data['answer']).lower().split()\n",
                "    if data['type'] == 'bonus' and 'leadin' in data and 'parts' in data and 'answers' in data:\n",
                "        tokens = removePunctuation(data['leadin'] + ' ' + ' '.join(data['parts']) + ' ' + ' '.join(data['answers'])).lower().split()\n",
                "\n",
                "    tokens = [token for token in tokens if token not in stop_words]\n",
                "    tokens = [ps.stem(token) for token in tokens]\n",
                "\n",
                "    token_counter = Counter(tokens)\n",
                "\n",
                "    for token in set(tokens):\n",
                "        if token not in naive_bayes_data:\n",
                "            naive_bayes_data[token] = {subcat: 0 for subcat in SUBCATEGORIES}\n",
                "\n",
                "        naive_bayes_data[token][subcategory] += 1\n",
                "\n",
                "    class_priors[subcategory] += 1\n",
                "\n",
                "    # subcategory_questions[subcategory].append(tokens)"
            ]
        },
        {
            "cell_type": "code",
            "execution_count": 6,
            "metadata": {},
            "outputs": [],
            "source": [
                "# dictionary = generate_dictionary(subcategory_questions)\n",
                "# print('Size of dictionary:', len(dictionary), 'words')"
            ]
        },
        {
            "cell_type": "code",
            "execution_count": 7,
            "metadata": {},
            "outputs": [],
            "source": [
                "# encodings = {\n",
                "#     subcat: [bag_of_words(question, dictionary) for question in tqdm(subcategory_questions[subcat])]\n",
                "#     for subcat in SUBCATEGORIES\n",
                "# }"
            ]
        },
        {
            "cell_type": "code",
            "execution_count": 8,
            "metadata": {},
            "outputs": [],
            "source": [
                "# encodings_sparse = {\n",
                "#     subcat: [sparse_bag_of_words(vector, dictionary) for vector in tqdm(subcategory_questions[subcat])]\n",
                "#     for subcat in SUBCATEGORIES\n",
                "# }"
            ]
        },
        {
            "cell_type": "code",
            "execution_count": 9,
            "metadata": {},
            "outputs": [
                {
                    "name": "stdout",
                    "output_type": "stream",
                    "text": [
                        "=====Begin Testing=====\n",
                        "7667/10000\n",
                        "15298/20000\n",
                        "22958/30000\n",
                        "30606/40000\n",
                        "=====End Testing=====\n",
                        "Accuracy: 0.7662055127257366 (36276/47345)\n",
                        "Time: 74.7178037300182 seconds\n"
                    ]
                }
            ],
            "source": [
                "import seaborn as sn\n",
                "from sklearn.metrics import ConfusionMatrixDisplay\n",
                "import time\n",
                "\n",
                "print('=====Begin Testing=====')\n",
                "time_now = time.perf_counter()\n",
                "\n",
                "counter = 0\n",
                "correct = 0\n",
                "confusion_matrix = [\n",
                "    [0 for _ in range(len(SUBCATEGORIES))]\n",
                "    for _ in range(len(SUBCATEGORIES))\n",
                "]\n",
                "\n",
                "for line in questions[:int(0.2*len(questions))]:\n",
                "    data = json.loads(line)\n",
                "    if 'subcategory' not in data:\n",
                "        continue\n",
                "\n",
                "    counter += 1\n",
                "    subcategory = data['subcategory']\n",
                "    if subcategory not in SUBCATEGORIES:\n",
                "        continue\n",
                "\n",
                "    if data['type'] == 'tossup':\n",
                "        text = data['question'] + ' ' + data['answer']\n",
                "    elif data['type'] == 'bonus' and 'parts' in data and 'answers' in data:\n",
                "        text = data['leadin'] + ' ' + ' '.join(data['parts']) + ' ' + ' '.join(data['answers'])\n",
                "    else:\n",
                "        continue\n",
                "\n",
                "    text = removePunctuation(text).lower().split()\n",
                "    tokens = [token for token in text if token not in stop_words]\n",
                "    tokens = [ps.stem(token) for token in tokens]\n",
                "    prediction = naive_bayes(tokens, naive_bayes_data, class_priors)\n",
                "    subcategory_index = SUBCATEGORIES.index(subcategory)\n",
                "    prediction_index = SUBCATEGORIES.index(prediction)\n",
                "\n",
                "    confusion_matrix[subcategory_index][prediction_index] += 1\n",
                "\n",
                "    if subcategory == prediction:\n",
                "        correct += 1\n",
                "\n",
                "    if counter % 10000 == 0:\n",
                "        print(f'{correct}/{counter}')\n",
                "\n",
                "print('=====End Testing=====')\n",
                "print(f'Accuracy: {correct / counter} ({correct}/{counter})')\n",
                "print('Time:', time.perf_counter() - time_now, 'seconds')"
            ]
        },
        {
            "cell_type": "code",
            "execution_count": 10,
            "metadata": {},
            "outputs": [
                {
                    "name": "stdout",
                    "output_type": "stream",
                    "text": [
                        "Confusion Matrix:\n",
                        "American Literature  [2264, 139, 122, 162, 14, 5, 5, 0, 1, 0, 2, 1, 1, 7, 0, 32, 5, 17, 35, 15, 49, 6, 157]\n",
                        "British Literature   [78, 2158, 79, 57, 8, 8, 8, 4, 2, 0, 0, 2, 1, 7, 2, 13, 7, 19, 13, 6, 18, 1, 49]\n",
                        "European Literature  [42, 78, 1615, 68, 3, 3, 8, 1, 0, 0, 0, 2, 1, 1, 1, 16, 8, 13, 13, 2, 19, 3, 12]\n",
                        "World Literature     [43, 36, 39, 1247, 2, 3, 1, 9, 0, 2, 1, 0, 2, 0, 0, 10, 6, 20, 7, 2, 16, 2, 16]\n",
                        "American History     [52, 11, 3, 3, 2037, 29, 39, 44, 0, 0, 0, 1, 1, 4, 0, 21, 18, 4, 12, 26, 655, 81, 72]\n",
                        "Ancient History      [1, 3, 2, 3, 2, 508, 16, 11, 0, 0, 0, 0, 0, 2, 0, 0, 5, 2, 2, 2, 25, 5, 0]\n",
                        "European History     [9, 25, 21, 12, 70, 316, 2268, 104, 1, 1, 1, 1, 7, 11, 0, 36, 38, 4, 36, 26, 537, 87, 15]\n",
                        "World History        [6, 9, 4, 22, 33, 198, 69, 1602, 0, 0, 0, 0, 3, 3, 0, 9, 30, 8, 6, 9, 590, 108, 12]\n",
                        "Biology              [7, 4, 2, 4, 10, 1, 4, 0, 2200, 72, 16, 7, 36, 4, 0, 3, 6, 2, 7, 61, 58, 18, 22]\n",
                        "Chemistry            [3, 2, 1, 2, 1, 2, 3, 0, 36, 1844, 152, 10, 25, 1, 1, 1, 1, 0, 0, 4, 13, 4, 8]\n",
                        "Physics              [2, 1, 0, 1, 2, 2, 2, 0, 4, 68, 2260, 167, 94, 0, 0, 3, 7, 0, 10, 16, 13, 2, 7]\n",
                        "Math                 [0, 1, 1, 0, 0, 1, 0, 0, 1, 0, 10, 662, 23, 0, 0, 0, 0, 0, 1, 4, 5, 2, 1]\n",
                        "Other Science        [4, 2, 2, 1, 6, 3, 6, 1, 9, 44, 79, 160, 1148, 4, 3, 6, 4, 3, 9, 113, 74, 28, 12]\n",
                        "Visual Fine Arts     [28, 21, 12, 12, 13, 25, 14, 3, 1, 1, 0, 1, 1, 2421, 0, 181, 14, 6, 11, 7, 48, 13, 50]\n",
                        "Auditory Fine Arts   [18, 19, 34, 13, 7, 2, 13, 5, 1, 0, 2, 4, 3, 5, 2224, 250, 10, 1, 6, 9, 21, 11, 117]\n",
                        "Other Fine Arts      [9, 10, 5, 3, 2, 10, 3, 4, 0, 0, 1, 4, 1, 112, 113, 895, 7, 1, 4, 4, 29, 11, 82]\n",
                        "Religion             [7, 12, 11, 10, 8, 21, 19, 15, 0, 0, 0, 0, 1, 3, 0, 7, 1640, 42, 25, 10, 66, 10, 6]\n",
                        "Mythology            [11, 17, 23, 23, 3, 60, 4, 5, 2, 0, 0, 0, 4, 11, 2, 12, 66, 1994, 4, 11, 22, 13, 18]\n",
                        "Philosophy           [11, 11, 19, 9, 8, 19, 5, 0, 2, 0, 2, 12, 3, 3, 0, 3, 17, 0, 1690, 71, 13, 2, 3]\n",
                        "Social Science       [8, 1, 2, 7, 11, 7, 11, 3, 7, 0, 1, 8, 4, 0, 0, 6, 7, 4, 62, 1399, 82, 11, 13]\n",
                        "Current Events       [3, 0, 0, 0, 6, 0, 4, 3, 2, 1, 0, 0, 2, 2, 1, 2, 0, 1, 0, 2, 343, 18, 13]\n",
                        "Geography            [3, 2, 3, 7, 14, 15, 6, 26, 3, 0, 0, 2, 7, 5, 0, 32, 4, 3, 1, 3, 157, 1128, 12]\n",
                        "Trash                [8, 5, 1, 2, 2, 5, 0, 1, 0, 1, 0, 1, 2, 2, 5, 58, 0, 4, 1, 3, 79, 8, 729]\n"
                    ]
                }
            ],
            "source": [
                "print('Confusion Matrix:')\n",
                "for subcat, row in zip(SUBCATEGORIES, confusion_matrix):\n",
                "    print(f'{subcat:20}', row)"
            ]
        },
        {
            "cell_type": "code",
            "execution_count": 11,
            "metadata": {},
            "outputs": [
                {
                    "data": {
                        "text/plain": [
                            "<AxesSubplot:>"
                        ]
                    },
                    "execution_count": 11,
                    "metadata": {},
                    "output_type": "execute_result"
                },
                {
                    "data": {
                        "image/png": "[encoded data removed]",
                        "text/plain": [
                            "<Figure size 432x288 with 2 Axes>"
                        ]
                    },
                    "metadata": {
                        "needs_background": "light"
                    },
                    "output_type": "display_data"
                }
            ],
            "source": [
                "sn.heatmap(confusion_matrix, cmap='Greens', annot=False)"
            ]
        },
        {
            "cell_type": "code",
            "execution_count": null,
            "metadata": {},
            "outputs": [],
            "source": []
        }
    ],
    "metadata": {
        "kernelspec": {
            "display_name": "Python 3.10.0 64-bit",
            "language": "python",
            "name": "python3"
        },
        "language_info": {
            "codemirror_mode": {
                "name": "ipython",
                "version": 3
            },
            "file_extension": ".py",
            "mimetype": "text/x-python",
            "name": "python",
            "nbconvert_exporter": "python",
            "pygments_lexer": "ipython3",
            "version": "3.10.0"
        },
        "orig_nbformat": 4,
        "vscode": {
            "interpreter": {
                "hash": "aee8b7b246df8f9039afb4144a1f6fd8d2ca17a180786b69acc140d282b71a49"
            }
        }
    },
    "nbformat": 4,
    "nbformat_minor": 2
}
