{
    "cells": [
        {
            "attachments": {},
            "cell_type": "markdown",
            "metadata": {},
            "source": [
                "Note: needs the `tossups.json` and `bonuses.json` file in the same directory as this file.\n",
                "\n",
                "- It should contain all of the questions in the database dumped from mongodb."
            ]
        },
        {
            "cell_type": "code",
            "execution_count": 1,
            "metadata": {},
            "outputs": [],
            "source": [
                "import json\n",
                "import numpy as np\n",
                "\n",
                "from matplotlib import pyplot as plt\n",
                "from tqdm import tqdm"
            ]
        },
        {
            "cell_type": "code",
            "execution_count": 2,
            "metadata": {},
            "outputs": [
                {
                    "name": "stderr",
                    "output_type": "stream",
                    "text": [
                        "132191it [00:23, 5716.29it/s]\n",
                        "116919it [00:19, 5997.58it/s]\n"
                    ]
                }
            ],
            "source": [
                "def hhi(arr):\n",
                "    return sum([_**2 for _ in arr]) / sum(arr) ** 2\n",
                "\n",
                "\n",
                "def normalized_hhi(arr):\n",
                "    return (hhi(arr) - 1/len(arr)) / (1 - 1/len(arr))\n",
                "\n",
                "\n",
                "def removePunctuation(s, punctuation='''.,!;:'\"\\/?@#$%^&*_~()[]{}“”‘’'''):\n",
                "    s = ''.join(ch for ch in s if ch not in punctuation)\n",
                "    s = s.replace('–', '-') # en dash\n",
                "    s = s.replace('—', '-') # em dash\n",
                "    return s\n",
                "\n",
                "\n",
                "with open('stop-words.txt') as f:\n",
                "    stop_words = set(f.readlines())\n",
                "    stop_words = set([word.strip() for word in stop_words])\n",
                "\n",
                "with open('subcategories.txt') as f:\n",
                "    SUBCATEGORIES = [line.strip() for line in f.readlines()]\n",
                "\n",
                "word_to_subcat = {}\n",
                "\n",
                "with open('tossups.json') as tossups:\n",
                "    for line in tqdm(tossups):\n",
                "        data = json.loads(line)\n",
                "        if 'subcategory' not in data:\n",
                "            continue\n",
                "\n",
                "        subcategory = data['subcategory']\n",
                "\n",
                "        if subcategory not in SUBCATEGORIES:\n",
                "            continue\n",
                "\n",
                "        subcategory_index = SUBCATEGORIES.index(subcategory)\n",
                "\n",
                "        if 'question' not in data or 'answer' not in data:\n",
                "            continue\n",
                "\n",
                "        tokens = removePunctuation(data['question'] + ' ' + data['answer']).lower().split()\n",
                "\n",
                "        tokens = [token for token in tokens if token not in stop_words]\n",
                "        for token in tokens:\n",
                "            if token not in word_to_subcat:\n",
                "                word_to_subcat[token] = [0 for _ in range(len(SUBCATEGORIES))]\n",
                "\n",
                "            word_to_subcat[token][subcategory_index] += 1\n",
                "\n",
                "\n",
                "with open('bonuses.json') as bonuses:\n",
                "    for line in tqdm(bonuses):\n",
                "        data = json.loads(line)\n",
                "        if 'subcategory' not in data:\n",
                "            continue\n",
                "\n",
                "        subcategory = data['subcategory']\n",
                "\n",
                "        if subcategory not in SUBCATEGORIES:\n",
                "            continue\n",
                "\n",
                "        subcategory_index = SUBCATEGORIES.index(subcategory)\n",
                "\n",
                "        if 'leadin' not in data or 'parts' not in data or 'answers' not in data:\n",
                "            continue\n",
                "\n",
                "        tokens = removePunctuation(data['leadin'] + ' ' + ' '.join(data['parts']) + ' ' + ' '.join(data['answers'])).lower().split()\n",
                "\n",
                "        tokens = [token for token in tokens if token not in stop_words]\n",
                "        for token in tokens:\n",
                "            if token not in word_to_subcat:\n",
                "                word_to_subcat[token] = [0 for _ in range(len(SUBCATEGORIES))]\n",
                "\n",
                "            word_to_subcat[token][subcategory_index] += 1"
            ]
        },
        {
            "cell_type": "code",
            "execution_count": 3,
            "metadata": {},
            "outputs": [],
            "source": [
                "factors = {}\n",
                "\n",
                "for word in word_to_subcat:\n",
                "    factors[word] = (normalized_hhi(word_to_subcat[word]), sum(word_to_subcat[word]), SUBCATEGORIES[np.argmax(word_to_subcat[word])])"
            ]
        },
        {
            "cell_type": "code",
            "execution_count": 4,
            "metadata": {},
            "outputs": [],
            "source": [
                "hhis = list(factors.values())\n",
                "hhis = [hhi[0] for hhi in hhis]\n",
                "hhis.sort()"
            ]
        },
        {
            "cell_type": "code",
            "execution_count": 5,
            "metadata": {},
            "outputs": [
                {
                    "name": "stdout",
                    "output_type": "stream",
                    "text": [
                        "Number of words: 484865\n",
                        "Average HHI: 0.8140457964612478\n",
                        "Median HHI: 1.0\n",
                        "333439 words with HHI = 1.0\n"
                    ]
                }
            ],
            "source": [
                "n = len(hhis)\n",
                "\n",
                "print(f'Number of words: {n}')\n",
                "print(f'Average HHI: {sum(hhis) / len(hhis)}')\n",
                "print(f'Median HHI: {hhis[n // 2]}')\n",
                "print(f'{len([i for i in hhis if i == 1.0])} words with HHI = 1.0')"
            ]
        },
        {
            "cell_type": "code",
            "execution_count": 6,
            "metadata": {},
            "outputs": [
                {
                    "data": {
                        "image/png": "[encoded data removed]",
                        "text/plain": [
                            "<Figure size 432x288 with 1 Axes>"
                        ]
                    },
                    "metadata": {
                        "needs_background": "light"
                    },
                    "output_type": "display_data"
                }
            ],
            "source": [
                "plt.plot(hhis)\n",
                "plt.show()"
            ]
        },
        {
            "cell_type": "code",
            "execution_count": 7,
            "metadata": {},
            "outputs": [
                {
                    "data": {
                        "image/png": "[encoded data removed]",
                        "text/plain": [
                            "<Figure size 432x288 with 1 Axes>"
                        ]
                    },
                    "metadata": {
                        "needs_background": "light"
                    },
                    "output_type": "display_data"
                }
            ],
            "source": [
                "plt.hist(hhis)\n",
                "plt.show()"
            ]
        },
        {
            "cell_type": "code",
            "execution_count": null,
            "metadata": {},
            "outputs": [],
            "source": [
                "factor_values = [[word, factors[word][1], factors[word][2]] for word in factors if factors[word][0] > 0.9 and factors[word][1] >= 6 and factors[word][1] <= 10]\n",
                "factor_values.sort(key=lambda x: x[1], reverse=False)\n",
                "for x in factor_values:\n",
                "    print(f\"{x[0]:21} {x[1]:4} ({x[2]})\")"
            ]
        },
        {
            "cell_type": "code",
            "execution_count": null,
            "metadata": {},
            "outputs": [],
            "source": []
        }
    ],
    "metadata": {
        "kernelspec": {
            "display_name": "Python 3",
            "language": "python",
            "name": "python3"
        },
        "language_info": {
            "codemirror_mode": {
                "name": "ipython",
                "version": 3
            },
            "file_extension": ".py",
            "mimetype": "text/x-python",
            "name": "python",
            "nbconvert_exporter": "python",
            "pygments_lexer": "ipython3",
            "version": "3.10.0"
        },
        "orig_nbformat": 4,
        "vscode": {
            "interpreter": {
                "hash": "aee8b7b246df8f9039afb4144a1f6fd8d2ca17a180786b69acc140d282b71a49"
            }
        }
    },
    "nbformat": 4,
    "nbformat_minor": 2
}
